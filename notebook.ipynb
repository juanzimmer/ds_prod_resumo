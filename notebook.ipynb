{
 "cells": [
  {
   "cell_type": "markdown",
   "id": "c4fbe1bf",
   "metadata": {},
   "source": [
    "# Questão do Negócio\n",
    "- CFO da empresa fez uma reunião com todos os gerentes da loja e pediu para que cada um deles trouxesse uma previsão diária das proximas 6 semanas de vendas.\n",
    "\n",
    "- Depois dessa reunião, todos os gerentes entraram em contato, solicitando uma previsão de vendas de sua loja.\n",
    "\n",
    "1. Qual a motivação:\n",
    "- A previsão de vendas foi requisitada pela CFO em uma reunião mensal sobre os resultados das lojas\n",
    "\n",
    "2. Causa raiz do problema\n",
    "- Dificuldade em determinar valor assertivo para reforma de cada loja\n",
    "\n",
    "3. Dono do problema:\n",
    "- CFO\n",
    "\n",
    "4. Formato da solução\n",
    "- Granularidade:\n",
    "    - previsão de vendas por dia nas lojas para os proximos, 42 dias, 6 semanas.\n",
    "- Tipo do problema:\n",
    "    - previsão de vendas\n",
    "- Potenciais métodos:\n",
    "    - séries temporais\n",
    "- Formato da entrega:\n",
    "    - O valor das vendas no final de 6 semanas\n",
    "    - Como essas vendas acontecem diariamente\n",
    "    - visualizar com o código da loja o valor ao final da 6 semana\n"
   ]
  },
  {
   "cell_type": "markdown",
   "id": "d9b1b885",
   "metadata": {},
   "source": [
    "### Ciclos:\n",
    "- Questão do Negocio\n",
    "    - entender o stakeholer\n",
    "- Entendimento do Negócio\n",
    "    - entender oq precisa ser resolvido\n",
    "- Coleta de Dados\n",
    "    - SQL\n",
    "- Limpeza dos Dados\n",
    "    - removendo caracteres especiais\n",
    "    - analisando dtypes\n",
    "- Exploração de Dados\n",
    "    - quais variaveis impactam os modelo a ser analisado\n",
    "    - testes estatísticos\n",
    "- Modelagem de Dados\n",
    "    - treino / teste\n",
    "    - encoder\n",
    "    - transformação de dados\n",
    "- Algoritmos de ML\n",
    "    - aplicar modelos\n",
    "- Avaliação do algoritmo\n",
    "    - RMSE\n",
    "    - MAE\n",
    "    - MAPE\n",
    "    - Acurácia\n",
    "    - Precisão / Recall"
   ]
  },
  {
   "cell_type": "markdown",
   "id": "17061c7c",
   "metadata": {},
   "source": [
    "# Imports"
   ]
  },
  {
   "cell_type": "code",
   "execution_count": 21,
   "id": "e6be62bd",
   "metadata": {},
   "outputs": [],
   "source": [
    "import pandas as pd\n",
    "import numpy as np\n",
    "import inflection"
   ]
  },
  {
   "cell_type": "markdown",
   "id": "d066b9db",
   "metadata": {},
   "source": [
    "## 0.1 Helper Functions"
   ]
  },
  {
   "cell_type": "code",
   "execution_count": null,
   "id": "3db7e44f",
   "metadata": {},
   "outputs": [],
   "source": []
  },
  {
   "cell_type": "markdown",
   "id": "ebf49a20",
   "metadata": {},
   "source": [
    "## 0.2 Load Datas"
   ]
  },
  {
   "cell_type": "code",
   "execution_count": 26,
   "id": "850ffc1a",
   "metadata": {},
   "outputs": [],
   "source": [
    "raw_store = pd.read_csv('rossmann_store_sales/store.csv', low_memory=False)\n",
    "raw_test = pd.read_csv('rossmann_store_sales/train.csv', low_memory=False)\n",
    "\n",
    "# merge\n",
    "df_raw = pd.merge(raw_test, raw_store, how='left', on='Store')"
   ]
  },
  {
   "cell_type": "markdown",
   "id": "58fd34b1",
   "metadata": {},
   "source": [
    "# 1.0 Descrição dos dados"
   ]
  },
  {
   "cell_type": "code",
   "execution_count": 27,
   "id": "a7a3adce",
   "metadata": {},
   "outputs": [],
   "source": [
    "df1 = df_raw.copy()"
   ]
  },
  {
   "cell_type": "markdown",
   "id": "3f73953c",
   "metadata": {},
   "source": [
    "## 1.1 Rename Columns"
   ]
  },
  {
   "cell_type": "code",
   "execution_count": 28,
   "id": "28d8e607",
   "metadata": {},
   "outputs": [],
   "source": [
    "#metodo para por em lower e quebrar com \"_\" antes de maiusculas\n",
    "snakecase = lambda x: inflection.underscore(x)\n",
    "\n",
    "#substituindo\n",
    "df1.columns = list(map(snakecase, df1.columns))"
   ]
  },
  {
   "cell_type": "markdown",
   "id": "464bc5e4",
   "metadata": {},
   "source": [
    "## 1.2 Data Dimensions"
   ]
  },
  {
   "cell_type": "code",
   "execution_count": 31,
   "id": "c322f045",
   "metadata": {},
   "outputs": [
    {
     "name": "stdout",
     "output_type": "stream",
     "text": [
      "Numero de linhas: 1017209\n",
      "Numero de colunas: 18\n"
     ]
    }
   ],
   "source": [
    "print(\"Numero de linhas:\", df1.shape[0])\n",
    "print(\"Numero de colunas:\", df1.shape[1])"
   ]
  },
  {
   "cell_type": "markdown",
   "id": "0a4bf829",
   "metadata": {},
   "source": [
    "## 1.3 Data Types"
   ]
  },
  {
   "cell_type": "code",
   "execution_count": 35,
   "id": "2a430a3a",
   "metadata": {},
   "outputs": [
    {
     "data": {
      "text/plain": [
       "store                                    int64\n",
       "day_of_week                              int64\n",
       "date                            datetime64[ns]\n",
       "sales                                    int64\n",
       "customers                                int64\n",
       "open                                     int64\n",
       "promo                                    int64\n",
       "state_holiday                           object\n",
       "school_holiday                           int64\n",
       "store_type                              object\n",
       "assortment                              object\n",
       "competition_distance                   float64\n",
       "competition_open_since_month           float64\n",
       "competition_open_since_year            float64\n",
       "promo2                                   int64\n",
       "promo2_since_week                      float64\n",
       "promo2_since_year                      float64\n",
       "promo_interval                          object\n",
       "dtype: object"
      ]
     },
     "execution_count": 35,
     "metadata": {},
     "output_type": "execute_result"
    }
   ],
   "source": [
    "df1['date'] = pd.to_datetime(df1['date'])\n",
    "df1.dtypes"
   ]
  },
  {
   "cell_type": "markdown",
   "id": "155c8450",
   "metadata": {},
   "source": [
    "## 1.4 Check NA"
   ]
  },
  {
   "cell_type": "code",
   "execution_count": 38,
   "id": "2f1d205d",
   "metadata": {},
   "outputs": [
    {
     "data": {
      "text/plain": [
       "store                                0\n",
       "day_of_week                          0\n",
       "date                                 0\n",
       "sales                                0\n",
       "customers                            0\n",
       "open                                 0\n",
       "promo                                0\n",
       "state_holiday                        0\n",
       "school_holiday                       0\n",
       "store_type                           0\n",
       "assortment                           0\n",
       "competition_distance              2642\n",
       "competition_open_since_month    323348\n",
       "competition_open_since_year     323348\n",
       "promo2                               0\n",
       "promo2_since_week               508031\n",
       "promo2_since_year               508031\n",
       "promo_interval                  508031\n",
       "dtype: int64"
      ]
     },
     "execution_count": 38,
     "metadata": {},
     "output_type": "execute_result"
    }
   ],
   "source": [
    "df1.isna().sum()"
   ]
  },
  {
   "cell_type": "markdown",
   "id": "988fe0d0",
   "metadata": {},
   "source": [
    "# 2.0"
   ]
  },
  {
   "cell_type": "code",
   "execution_count": null,
   "id": "933dec6a",
   "metadata": {},
   "outputs": [],
   "source": []
  },
  {
   "cell_type": "markdown",
   "id": "d6e5f747",
   "metadata": {},
   "source": [
    "# 3.0"
   ]
  },
  {
   "cell_type": "code",
   "execution_count": null,
   "id": "79e37098",
   "metadata": {},
   "outputs": [],
   "source": []
  },
  {
   "cell_type": "markdown",
   "id": "2d394ea5",
   "metadata": {},
   "source": [
    "# 4.0"
   ]
  },
  {
   "cell_type": "code",
   "execution_count": null,
   "id": "62dd1797",
   "metadata": {},
   "outputs": [],
   "source": []
  },
  {
   "cell_type": "markdown",
   "id": "cd93854a",
   "metadata": {},
   "source": [
    "# 5.0"
   ]
  },
  {
   "cell_type": "code",
   "execution_count": null,
   "id": "8ee7ec29",
   "metadata": {},
   "outputs": [],
   "source": []
  },
  {
   "cell_type": "markdown",
   "id": "bbb70b6c",
   "metadata": {},
   "source": [
    "# 6.0"
   ]
  },
  {
   "cell_type": "code",
   "execution_count": null,
   "id": "39c70b15",
   "metadata": {},
   "outputs": [],
   "source": []
  },
  {
   "cell_type": "markdown",
   "id": "6caa0bb4",
   "metadata": {},
   "source": [
    "# 7.0"
   ]
  },
  {
   "cell_type": "code",
   "execution_count": null,
   "id": "d04df30c",
   "metadata": {},
   "outputs": [],
   "source": []
  },
  {
   "cell_type": "markdown",
   "id": "24e65bed",
   "metadata": {},
   "source": [
    "# 8.0"
   ]
  },
  {
   "cell_type": "code",
   "execution_count": null,
   "id": "34309027",
   "metadata": {},
   "outputs": [],
   "source": []
  }
 ],
 "metadata": {
  "kernelspec": {
   "display_name": "ds_prod",
   "language": "python",
   "name": "python3"
  },
  "language_info": {
   "codemirror_mode": {
    "name": "ipython",
    "version": 3
   },
   "file_extension": ".py",
   "mimetype": "text/x-python",
   "name": "python",
   "nbconvert_exporter": "python",
   "pygments_lexer": "ipython3",
   "version": "3.12.11"
  }
 },
 "nbformat": 4,
 "nbformat_minor": 5
}
