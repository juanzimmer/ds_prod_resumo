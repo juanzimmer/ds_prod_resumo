{
 "cells": [
  {
   "cell_type": "markdown",
   "id": "57afeb99",
   "metadata": {},
   "source": [
    "- Id - um Id que representa um duplicado (Loja, Data) dentro do conjunto de teste\n",
    "\n",
    "- Loja - um Id exclusivo para cada loja\n",
    "\n",
    "- Vendas - o volume de negócios de um determinado dia (é isso que você está prevendo)\n",
    "\n",
    "- Clientes - o número de clientes em um determinado dia\n",
    "\n",
    "- Aberto - um indicador para saber se a loja estava aberta: 0 = fechada, 1 = aberta\n",
    "\n",
    "- FeriadoEstadual - indica um feriado estadual. Normalmente, todas as lojas, com poucas exceções, fecham em feriados estaduais. Observe que todas as escolas fecham em feriados e fins de semana. a = - feriado, b = Páscoa, c = Natal, 0 = Nenhum\n",
    "\n",
    "- SchoolHoliday - indica se a (Loja, Data) foi afetada pelo fechamento de escolas públicas\n",
    "\n",
    "- StoreType  - diferencia entre 4 modelos de loja diferentes: a, b, c, d\n",
    "\n",
    "- Sortimento - descreve um nível de sortimento: a = básico, b = extra, c = estendido\n",
    "\n",
    "- CompetitionDistance - distância em metros até a loja concorrente mais próxima\n",
    "\n",
    "- CompetitionOpenSince[Mês/Ano] - fornece o ano e o mês aproximados da abertura do concorrente mais próximo\n",
    "\n",
    "- Promoção - indica se uma loja está realizando uma promoção naquele dia\n",
    "\n",
    "- Promo2 - Promo2 é uma promoção contínua e consecutiva para algumas lojas: 0 = loja não está participando, 1 = loja está participando\n",
    "\n",
    "- Promo2Since[Ano/Semana] - descreve o ano e a semana do calendário em que a loja começou a participar do Promo2\n",
    "\n",
    "- PromoInterval - descreve os intervalos consecutivos em que a Promo2 é iniciada, indicando os meses em que a promoção é reiniciada. Por exemplo, \"fev, mai, ago, nov\" significa que cada rodada começa em fevereiro, maio, agosto, novembro de qualquer ano para aquela loja."
   ]
  },
  {
   "cell_type": "markdown",
   "id": "c4fbe1bf",
   "metadata": {},
   "source": [
    "# Questão do Negócio\n",
    "- CFO da empresa fez uma reunião com todos os gerentes da loja e pediu para que cada um deles trouxesse uma previsão diária das proximas 6 semanas de vendas.\n",
    "\n",
    "- Depois dessa reunião, todos os gerentes entraram em contato, solicitando uma previsão de vendas de sua loja.\n",
    "\n",
    "1. Qual a motivação:\n",
    "- A previsão de vendas foi requisitada pela CFO em uma reunião mensal sobre os resultados das lojas\n",
    "\n",
    "2. Causa raiz do problema\n",
    "- Dificuldade em determinar valor assertivo para reforma de cada loja\n",
    "\n",
    "3. Dono do problema:\n",
    "- CFO\n",
    "\n",
    "4. Formato da solução\n",
    "- Granularidade:\n",
    "    - previsão de vendas por dia nas lojas para os proximos, 42 dias, 6 semanas.\n",
    "- Tipo do problema:\n",
    "    - previsão de vendas\n",
    "- Potenciais métodos:\n",
    "    - séries temporais\n",
    "- Formato da entrega:\n",
    "    - O valor das vendas no final de 6 semanas\n",
    "    - Como essas vendas acontecem diariamente\n",
    "    - visualizar com o código da loja o valor ao final da 6 semana\n"
   ]
  },
  {
   "cell_type": "markdown",
   "id": "d9b1b885",
   "metadata": {},
   "source": [
    "### Ciclos:\n",
    "- Questão do Negocio\n",
    "    - entender o stakeholer\n",
    "- Entendimento do Negócio\n",
    "    - entender oq precisa ser resolvido\n",
    "- Coleta de Dados\n",
    "    - SQL\n",
    "- Limpeza dos Dados\n",
    "    - removendo caracteres especiais\n",
    "    - analisando dtypes\n",
    "- Exploração de Dados\n",
    "    - quais variaveis impactam os modelo a ser analisado\n",
    "    - testes estatísticos\n",
    "- Modelagem de Dados\n",
    "    - treino / teste\n",
    "    - encoder\n",
    "    - transformação de dados\n",
    "- Algoritmos de ML\n",
    "    - aplicar modelos\n",
    "- Avaliação do algoritmo\n",
    "    - RMSE\n",
    "    - MAE\n",
    "    - MAPE\n",
    "    - Acurácia\n",
    "    - Precisão / Recall"
   ]
  },
  {
   "cell_type": "markdown",
   "id": "17061c7c",
   "metadata": {},
   "source": [
    "# Imports"
   ]
  },
  {
   "cell_type": "code",
   "execution_count": 26,
   "id": "e6be62bd",
   "metadata": {},
   "outputs": [],
   "source": [
    "import pandas as pd\n",
    "import numpy as np\n",
    "import inflection\n",
    "import math\n",
    "\n",
    "import matplotlib.pyplot as plt\n",
    "import seaborn as sns"
   ]
  },
  {
   "cell_type": "markdown",
   "id": "d066b9db",
   "metadata": {},
   "source": [
    "## 0.1 Helper Functions"
   ]
  },
  {
   "cell_type": "code",
   "execution_count": null,
   "id": "3db7e44f",
   "metadata": {},
   "outputs": [],
   "source": []
  },
  {
   "cell_type": "markdown",
   "id": "ebf49a20",
   "metadata": {},
   "source": [
    "## 0.2 Load Datas"
   ]
  },
  {
   "cell_type": "code",
   "execution_count": 2,
   "id": "850ffc1a",
   "metadata": {},
   "outputs": [],
   "source": [
    "raw_store = pd.read_csv('rossmann_store_sales/store.csv', low_memory=False)\n",
    "raw_test = pd.read_csv('rossmann_store_sales/train.csv', low_memory=False)\n",
    "\n",
    "# merge\n",
    "df_raw = pd.merge(raw_test, raw_store, how='left', on='Store')"
   ]
  },
  {
   "cell_type": "markdown",
   "id": "58fd34b1",
   "metadata": {},
   "source": [
    "# 1.0 Descrição dos dados"
   ]
  },
  {
   "cell_type": "code",
   "execution_count": 3,
   "id": "a7a3adce",
   "metadata": {},
   "outputs": [],
   "source": [
    "df1 = df_raw.copy()"
   ]
  },
  {
   "cell_type": "markdown",
   "id": "3f73953c",
   "metadata": {},
   "source": [
    "## 1.1 Rename Columns"
   ]
  },
  {
   "cell_type": "code",
   "execution_count": 4,
   "id": "28d8e607",
   "metadata": {},
   "outputs": [],
   "source": [
    "#metodo para por em lower e quebrar com \"_\" antes de maiusculas\n",
    "snakecase = lambda x: inflection.underscore(x)\n",
    "\n",
    "#substituindo\n",
    "df1.columns = list(map(snakecase, df1.columns))"
   ]
  },
  {
   "cell_type": "markdown",
   "id": "464bc5e4",
   "metadata": {},
   "source": [
    "## 1.2 Data Dimensions"
   ]
  },
  {
   "cell_type": "code",
   "execution_count": 5,
   "id": "c322f045",
   "metadata": {},
   "outputs": [
    {
     "name": "stdout",
     "output_type": "stream",
     "text": [
      "Numero de linhas: 1017209\n",
      "Numero de colunas: 18\n"
     ]
    }
   ],
   "source": [
    "print(\"Numero de linhas:\", df1.shape[0])\n",
    "print(\"Numero de colunas:\", df1.shape[1])"
   ]
  },
  {
   "cell_type": "markdown",
   "id": "0a4bf829",
   "metadata": {},
   "source": [
    "## 1.3 Data Types"
   ]
  },
  {
   "cell_type": "code",
   "execution_count": 6,
   "id": "2a430a3a",
   "metadata": {},
   "outputs": [
    {
     "data": {
      "text/plain": [
       "store                                    int64\n",
       "day_of_week                              int64\n",
       "date                            datetime64[ns]\n",
       "sales                                    int64\n",
       "customers                                int64\n",
       "open                                     int64\n",
       "promo                                    int64\n",
       "state_holiday                           object\n",
       "school_holiday                           int64\n",
       "store_type                              object\n",
       "assortment                              object\n",
       "competition_distance                   float64\n",
       "competition_open_since_month           float64\n",
       "competition_open_since_year            float64\n",
       "promo2                                   int64\n",
       "promo2_since_week                      float64\n",
       "promo2_since_year                      float64\n",
       "promo_interval                          object\n",
       "dtype: object"
      ]
     },
     "execution_count": 6,
     "metadata": {},
     "output_type": "execute_result"
    }
   ],
   "source": [
    "df1['date'] = pd.to_datetime(df1['date'])\n",
    "df1.dtypes"
   ]
  },
  {
   "cell_type": "markdown",
   "id": "155c8450",
   "metadata": {},
   "source": [
    "## 1.4 Check NA"
   ]
  },
  {
   "cell_type": "code",
   "execution_count": 7,
   "id": "2f1d205d",
   "metadata": {},
   "outputs": [
    {
     "data": {
      "text/plain": [
       "store                                0\n",
       "day_of_week                          0\n",
       "date                                 0\n",
       "sales                                0\n",
       "customers                            0\n",
       "open                                 0\n",
       "promo                                0\n",
       "state_holiday                        0\n",
       "school_holiday                       0\n",
       "store_type                           0\n",
       "assortment                           0\n",
       "competition_distance              2642\n",
       "competition_open_since_month    323348\n",
       "competition_open_since_year     323348\n",
       "promo2                               0\n",
       "promo2_since_week               508031\n",
       "promo2_since_year               508031\n",
       "promo_interval                  508031\n",
       "dtype: int64"
      ]
     },
     "execution_count": 7,
     "metadata": {},
     "output_type": "execute_result"
    }
   ],
   "source": [
    "df1.isna().sum()"
   ]
  },
  {
   "cell_type": "markdown",
   "id": "a55ded1d",
   "metadata": {},
   "source": [
    "## 1.5 Fillout NA"
   ]
  },
  {
   "cell_type": "code",
   "execution_count": 8,
   "id": "bb377bb6",
   "metadata": {},
   "outputs": [
    {
     "data": {
      "text/plain": [
       "np.float64(75860.0)"
      ]
     },
     "execution_count": 8,
     "metadata": {},
     "output_type": "execute_result"
    }
   ],
   "source": [
    "df1['competition_distance'].max()"
   ]
  },
  {
   "cell_type": "code",
   "execution_count": 9,
   "id": "1528fcf0",
   "metadata": {},
   "outputs": [
    {
     "name": "stderr",
     "output_type": "stream",
     "text": [
      "/tmp/ipykernel_13963/2795566633.py:37: FutureWarning: A value is trying to be set on a copy of a DataFrame or Series through chained assignment using an inplace method.\n",
      "The behavior will change in pandas 3.0. This inplace method will never work because the intermediate object on which we are setting values always behaves as a copy.\n",
      "\n",
      "For example, when doing 'df[col].method(value, inplace=True)', try using 'df.method({col: value}, inplace=True)' or df[col] = df[col].method(value) instead, to perform the operation inplace on the original object.\n",
      "\n",
      "\n",
      "  df1['promo_interval'].fillna(0, inplace=True)\n"
     ]
    }
   ],
   "source": [
    "#substituindo por um outlier\n",
    "# competition_distance\n",
    "df1['competition_distance'] = df1['competition_distance'].apply(lambda x: 200000.0 if math.isnan(x) else x)\n",
    "\n",
    "\n",
    "#usando a coluna da data da ultima venda da loja para preencher os NA\n",
    "# competition_open_since_month\n",
    "df1['competition_open_since_month'] = df1['competition_open_since_month'].fillna(df1['date'].dt.month)\n",
    "\n",
    "# competition_open_since_year\n",
    "df1['competition_open_since_year'] = df1['competition_open_since_year'].fillna(df1['date'].dt.year)\n",
    "\n",
    "# promo2_since_week\n",
    "df1['promo2_since_week'] = df1['promo2_since_week'].fillna(df1['date'].dt.isocalendar().week)\n",
    "\n",
    "# promo2_since_year\n",
    "df1['promo2_since_year'] = df1['promo2_since_year'].fillna(df1['date'].dt.year)\n",
    "\n",
    "# promo_interval\n",
    "#ideia é: se month_map está em promo_interval existe uma promoção, caso contrario não existe\n",
    "\n",
    "# criando mes da venda\n",
    "month_map = {1: 'Jan',\n",
    " 2: 'Fev',\n",
    " 3: 'Mar',\n",
    " 4: 'Apr',\n",
    " 5: 'May',\n",
    " 6: 'Jun',\n",
    " 7: 'Jul',\n",
    " 8: 'Aug',\n",
    " 9: 'Sep',\n",
    " 10:'Oct',\n",
    " 11:'Nov',\n",
    " 12:'Dec'}\n",
    "\n",
    "#nulo por 0\n",
    "df1['promo_interval'].fillna(0, inplace=True)\n",
    "#preenchendo\n",
    "df1['month_map'] = df1['date'].dt.month.map(month_map)\n",
    "\n",
    "#se atender if´s, tem promo\n",
    "df1['is_promo'] = df1[['promo_interval', 'month_map']].apply(lambda x: 0 if x['promo_interval'] == 0 else 1 if x['month_map'] in x['promo_interval'].split(',') else 0, axis=1)"
   ]
  },
  {
   "cell_type": "markdown",
   "id": "b2a42d51",
   "metadata": {},
   "source": [
    "## 1.6 Change Types"
   ]
  },
  {
   "cell_type": "code",
   "execution_count": 12,
   "id": "eb9cb0de",
   "metadata": {},
   "outputs": [],
   "source": [
    "df1['competition_open_since_month'] = df1['competition_open_since_month'].astype(int)\n",
    "df1['competition_open_since_year'] = df1['competition_open_since_year'].astype(int)\n",
    "\n",
    "df1['promo2_since_week'] = df1['promo2_since_week'].astype(int)\n",
    "df1['promo2_since_year'] = df1['promo2_since_year'].astype(int)"
   ]
  },
  {
   "cell_type": "markdown",
   "id": "15cad02e",
   "metadata": {},
   "source": [
    "## 1.7 Descriptive Statistical"
   ]
  },
  {
   "cell_type": "code",
   "execution_count": 14,
   "id": "1feb4a3a",
   "metadata": {},
   "outputs": [],
   "source": [
    "num_atributes = df1.select_dtypes(include=['int64', 'float64'])\n",
    "\n",
    "cat_atributes = df1.select_dtypes(exclude=['int64', 'float64', 'datetime64[ns]'])"
   ]
  },
  {
   "cell_type": "markdown",
   "id": "2ee66f6f",
   "metadata": {},
   "source": [
    "### 1.7.1 Numerrical attributes"
   ]
  },
  {
   "cell_type": "code",
   "execution_count": null,
   "id": "8a403e2f",
   "metadata": {},
   "outputs": [
    {
     "data": {
      "text/html": [
       "<div>\n",
       "<style scoped>\n",
       "    .dataframe tbody tr th:only-of-type {\n",
       "        vertical-align: middle;\n",
       "    }\n",
       "\n",
       "    .dataframe tbody tr th {\n",
       "        vertical-align: top;\n",
       "    }\n",
       "\n",
       "    .dataframe thead th {\n",
       "        text-align: right;\n",
       "    }\n",
       "</style>\n",
       "<table border=\"1\" class=\"dataframe\">\n",
       "  <thead>\n",
       "    <tr style=\"text-align: right;\">\n",
       "      <th></th>\n",
       "      <th>atributos</th>\n",
       "      <th>min</th>\n",
       "      <th>max</th>\n",
       "      <th>range</th>\n",
       "      <th>mean</th>\n",
       "      <th>median</th>\n",
       "      <th>std</th>\n",
       "      <th>skew</th>\n",
       "      <th>kurtosis</th>\n",
       "    </tr>\n",
       "  </thead>\n",
       "  <tbody>\n",
       "    <tr>\n",
       "      <th>0</th>\n",
       "      <td>store</td>\n",
       "      <td>1.0</td>\n",
       "      <td>1115.0</td>\n",
       "      <td>1114.0</td>\n",
       "      <td>558.429727</td>\n",
       "      <td>558.0</td>\n",
       "      <td>321.908493</td>\n",
       "      <td>-0.000955</td>\n",
       "      <td>-1.200524</td>\n",
       "    </tr>\n",
       "    <tr>\n",
       "      <th>1</th>\n",
       "      <td>day_of_week</td>\n",
       "      <td>1.0</td>\n",
       "      <td>7.0</td>\n",
       "      <td>6.0</td>\n",
       "      <td>3.998341</td>\n",
       "      <td>4.0</td>\n",
       "      <td>1.997390</td>\n",
       "      <td>0.001593</td>\n",
       "      <td>-1.246873</td>\n",
       "    </tr>\n",
       "    <tr>\n",
       "      <th>2</th>\n",
       "      <td>sales</td>\n",
       "      <td>0.0</td>\n",
       "      <td>41551.0</td>\n",
       "      <td>41551.0</td>\n",
       "      <td>5773.818972</td>\n",
       "      <td>5744.0</td>\n",
       "      <td>3849.924283</td>\n",
       "      <td>0.641460</td>\n",
       "      <td>1.778375</td>\n",
       "    </tr>\n",
       "    <tr>\n",
       "      <th>3</th>\n",
       "      <td>customers</td>\n",
       "      <td>0.0</td>\n",
       "      <td>7388.0</td>\n",
       "      <td>7388.0</td>\n",
       "      <td>633.145946</td>\n",
       "      <td>609.0</td>\n",
       "      <td>464.411506</td>\n",
       "      <td>1.598650</td>\n",
       "      <td>7.091773</td>\n",
       "    </tr>\n",
       "    <tr>\n",
       "      <th>4</th>\n",
       "      <td>open</td>\n",
       "      <td>0.0</td>\n",
       "      <td>1.0</td>\n",
       "      <td>1.0</td>\n",
       "      <td>0.830107</td>\n",
       "      <td>1.0</td>\n",
       "      <td>0.375539</td>\n",
       "      <td>-1.758045</td>\n",
       "      <td>1.090723</td>\n",
       "    </tr>\n",
       "    <tr>\n",
       "      <th>5</th>\n",
       "      <td>promo</td>\n",
       "      <td>0.0</td>\n",
       "      <td>1.0</td>\n",
       "      <td>1.0</td>\n",
       "      <td>0.381515</td>\n",
       "      <td>0.0</td>\n",
       "      <td>0.485758</td>\n",
       "      <td>0.487838</td>\n",
       "      <td>-1.762018</td>\n",
       "    </tr>\n",
       "    <tr>\n",
       "      <th>6</th>\n",
       "      <td>school_holiday</td>\n",
       "      <td>0.0</td>\n",
       "      <td>1.0</td>\n",
       "      <td>1.0</td>\n",
       "      <td>0.178647</td>\n",
       "      <td>0.0</td>\n",
       "      <td>0.383056</td>\n",
       "      <td>1.677842</td>\n",
       "      <td>0.815154</td>\n",
       "    </tr>\n",
       "    <tr>\n",
       "      <th>7</th>\n",
       "      <td>competition_distance</td>\n",
       "      <td>20.0</td>\n",
       "      <td>200000.0</td>\n",
       "      <td>199980.0</td>\n",
       "      <td>5935.442677</td>\n",
       "      <td>2330.0</td>\n",
       "      <td>12547.646829</td>\n",
       "      <td>10.242344</td>\n",
       "      <td>147.789712</td>\n",
       "    </tr>\n",
       "    <tr>\n",
       "      <th>8</th>\n",
       "      <td>competition_open_since_month</td>\n",
       "      <td>1.0</td>\n",
       "      <td>12.0</td>\n",
       "      <td>11.0</td>\n",
       "      <td>6.786849</td>\n",
       "      <td>7.0</td>\n",
       "      <td>3.311085</td>\n",
       "      <td>-0.042076</td>\n",
       "      <td>-1.232607</td>\n",
       "    </tr>\n",
       "    <tr>\n",
       "      <th>9</th>\n",
       "      <td>competition_open_since_year</td>\n",
       "      <td>1900.0</td>\n",
       "      <td>2015.0</td>\n",
       "      <td>115.0</td>\n",
       "      <td>2010.324840</td>\n",
       "      <td>2012.0</td>\n",
       "      <td>5.515591</td>\n",
       "      <td>-7.235657</td>\n",
       "      <td>124.071304</td>\n",
       "    </tr>\n",
       "    <tr>\n",
       "      <th>10</th>\n",
       "      <td>promo2</td>\n",
       "      <td>0.0</td>\n",
       "      <td>1.0</td>\n",
       "      <td>1.0</td>\n",
       "      <td>0.500564</td>\n",
       "      <td>1.0</td>\n",
       "      <td>0.500000</td>\n",
       "      <td>-0.002255</td>\n",
       "      <td>-1.999999</td>\n",
       "    </tr>\n",
       "    <tr>\n",
       "      <th>11</th>\n",
       "      <td>promo2_since_week</td>\n",
       "      <td>1.0</td>\n",
       "      <td>52.0</td>\n",
       "      <td>51.0</td>\n",
       "      <td>23.619033</td>\n",
       "      <td>22.0</td>\n",
       "      <td>14.310057</td>\n",
       "      <td>0.178723</td>\n",
       "      <td>-1.184046</td>\n",
       "    </tr>\n",
       "    <tr>\n",
       "      <th>12</th>\n",
       "      <td>promo2_since_year</td>\n",
       "      <td>2009.0</td>\n",
       "      <td>2015.0</td>\n",
       "      <td>6.0</td>\n",
       "      <td>2012.793297</td>\n",
       "      <td>2013.0</td>\n",
       "      <td>1.662657</td>\n",
       "      <td>-0.784436</td>\n",
       "      <td>-0.210075</td>\n",
       "    </tr>\n",
       "    <tr>\n",
       "      <th>13</th>\n",
       "      <td>is_promo</td>\n",
       "      <td>0.0</td>\n",
       "      <td>1.0</td>\n",
       "      <td>1.0</td>\n",
       "      <td>0.155231</td>\n",
       "      <td>0.0</td>\n",
       "      <td>0.362124</td>\n",
       "      <td>1.904152</td>\n",
       "      <td>1.625796</td>\n",
       "    </tr>\n",
       "  </tbody>\n",
       "</table>\n",
       "</div>"
      ],
      "text/plain": [
       "                       atributos     min       max     range         mean  \\\n",
       "0                          store     1.0    1115.0    1114.0   558.429727   \n",
       "1                    day_of_week     1.0       7.0       6.0     3.998341   \n",
       "2                          sales     0.0   41551.0   41551.0  5773.818972   \n",
       "3                      customers     0.0    7388.0    7388.0   633.145946   \n",
       "4                           open     0.0       1.0       1.0     0.830107   \n",
       "5                          promo     0.0       1.0       1.0     0.381515   \n",
       "6                 school_holiday     0.0       1.0       1.0     0.178647   \n",
       "7           competition_distance    20.0  200000.0  199980.0  5935.442677   \n",
       "8   competition_open_since_month     1.0      12.0      11.0     6.786849   \n",
       "9    competition_open_since_year  1900.0    2015.0     115.0  2010.324840   \n",
       "10                        promo2     0.0       1.0       1.0     0.500564   \n",
       "11             promo2_since_week     1.0      52.0      51.0    23.619033   \n",
       "12             promo2_since_year  2009.0    2015.0       6.0  2012.793297   \n",
       "13                      is_promo     0.0       1.0       1.0     0.155231   \n",
       "\n",
       "    median           std       skew    kurtosis  \n",
       "0    558.0    321.908493  -0.000955   -1.200524  \n",
       "1      4.0      1.997390   0.001593   -1.246873  \n",
       "2   5744.0   3849.924283   0.641460    1.778375  \n",
       "3    609.0    464.411506   1.598650    7.091773  \n",
       "4      1.0      0.375539  -1.758045    1.090723  \n",
       "5      0.0      0.485758   0.487838   -1.762018  \n",
       "6      0.0      0.383056   1.677842    0.815154  \n",
       "7   2330.0  12547.646829  10.242344  147.789712  \n",
       "8      7.0      3.311085  -0.042076   -1.232607  \n",
       "9   2012.0      5.515591  -7.235657  124.071304  \n",
       "10     1.0      0.500000  -0.002255   -1.999999  \n",
       "11    22.0     14.310057   0.178723   -1.184046  \n",
       "12  2013.0      1.662657  -0.784436   -0.210075  \n",
       "13     0.0      0.362124   1.904152    1.625796  "
      ]
     },
     "execution_count": 16,
     "metadata": {},
     "output_type": "execute_result"
    }
   ],
   "source": [
    "# central tendence - media, mediana\n",
    "ct1 = pd.DataFrame(num_atributes.apply(np.mean)).T\n",
    "ct2 = pd.DataFrame(num_atributes.apply(np.median)).T\n",
    "\n",
    "# dispersion - desvio padrao, min, max, range, skew, kurtosis\n",
    "d1 = pd.DataFrame(num_atributes.apply(np.std)).T\n",
    "d2 = pd.DataFrame(num_atributes.apply(min)).T\n",
    "d3 = pd.DataFrame(num_atributes.apply(max)).T\n",
    "d4 = pd.DataFrame(num_atributes.apply(lambda x: x.max() - x.min())).T\n",
    "\n",
    "#skew (assimetria) é uma medida que descreve a falta de simetria, indicando se os dados estão mais concentrados à direita ou à esquerda da média\n",
    "d5 = pd.DataFrame(num_atributes.apply(lambda x: x.skew())).T\n",
    "\n",
    "#kurtosis mede o achatamento ou a forma das caudas de uma distribuição de dados, indicando se há uma concentração maior ou menor de valores extremos em relação a uma distribuição normal\n",
    "d6 = pd.DataFrame(num_atributes.apply(lambda x: x.kurtosis())).T\n",
    "\n",
    "# concatenate\n",
    "m = pd.concat([d2, d3, d4, ct1, ct2, d1, d5, d6]).T.reset_index()\n",
    "m.columns = ['atributos', 'min', 'max', 'range', 'mean', 'median', 'std', 'skew', 'kurtosis']\n",
    "\n",
    "m"
   ]
  },
  {
   "cell_type": "code",
   "execution_count": 22,
   "id": "fe0dc9b0",
   "metadata": {},
   "outputs": [
    {
     "data": {
      "text/plain": [
       "array([[<Axes: title={'center': 'store'}>,\n",
       "        <Axes: title={'center': 'day_of_week'}>,\n",
       "        <Axes: title={'center': 'sales'}>,\n",
       "        <Axes: title={'center': 'customers'}>],\n",
       "       [<Axes: title={'center': 'open'}>,\n",
       "        <Axes: title={'center': 'promo'}>,\n",
       "        <Axes: title={'center': 'school_holiday'}>,\n",
       "        <Axes: title={'center': 'competition_distance'}>],\n",
       "       [<Axes: title={'center': 'competition_open_since_month'}>,\n",
       "        <Axes: title={'center': 'competition_open_since_year'}>,\n",
       "        <Axes: title={'center': 'promo2'}>,\n",
       "        <Axes: title={'center': 'promo2_since_week'}>],\n",
       "       [<Axes: title={'center': 'promo2_since_year'}>,\n",
       "        <Axes: title={'center': 'is_promo'}>, <Axes: >, <Axes: >]],\n",
       "      dtype=object)"
      ]
     },
     "execution_count": 22,
     "metadata": {},
     "output_type": "execute_result"
    },
    {
     "data": {
      "image/png": "[encoded data removed]",
      "text/plain": [
       "<Figure size 1500x1000 with 16 Axes>"
      ]
     },
     "metadata": {},
     "output_type": "display_data"
    }
   ],
   "source": [
    "num_atributes.hist(bins=30, figsize=(15, 10))"
   ]
  },
  {
   "cell_type": "markdown",
   "id": "657bbd0d",
   "metadata": {},
   "source": [
    "### 1.7.1 Categorical attributes"
   ]
  },
  {
   "cell_type": "code",
   "execution_count": 25,
   "id": "d9f1c207",
   "metadata": {},
   "outputs": [
    {
     "data": {
      "text/plain": [
       "state_holiday      4\n",
       "store_type         4\n",
       "assortment         3\n",
       "promo_interval     4\n",
       "month_map         12\n",
       "dtype: int64"
      ]
     },
     "execution_count": 25,
     "metadata": {},
     "output_type": "execute_result"
    }
   ],
   "source": [
    "cat_atributes.apply(lambda x: x.unique().shape[0])"
   ]
  },
  {
   "cell_type": "code",
   "execution_count": null,
   "id": "f4a8ab81",
   "metadata": {},
   "outputs": [
    {
     "data": {
      "text/plain": [
       "<Axes: xlabel='assortment', ylabel='sales'>"
      ]
     },
     "execution_count": 33,
     "metadata": {},
     "output_type": "execute_result"
    },
    {
     "data": {
      "image/png": "[encoded data removed]",
      "text/plain": [
       "<Figure size 1800x500 with 3 Axes>"
      ]
     },
     "metadata": {},
     "output_type": "display_data"
    }
   ],
   "source": [
    "aux = df1[(df1['state_holiday'] != '0' ) & (df1['sales'] > 0 )]\n",
    "\n",
    "\n",
    "plt.figure(figsize=(18, 5))\n",
    "\n",
    "plt.subplot(1, 3, 1)\n",
    "sns.boxplot(x = aux['state_holiday'], y = aux['sales'], data = aux)\n",
    "\n",
    "plt.subplot(1, 3, 2)\n",
    "sns.boxplot(x = aux['store_type'], y = aux['sales'], data = aux)\n",
    "\n",
    "plt.subplot(1, 3, 3)\n",
    "sns.boxplot(x = aux['assortment'], y = aux['sales'], data = aux)\n",
    "\n",
    "#PS: outlier é 3X`s o desvio padrão"
   ]
  },
  {
   "cell_type": "code",
   "execution_count": null,
   "id": "19bde3a0",
   "metadata": {},
   "outputs": [],
   "source": []
  },
  {
   "cell_type": "code",
   "execution_count": null,
   "id": "c7840cad",
   "metadata": {},
   "outputs": [],
   "source": []
  },
  {
   "cell_type": "code",
   "execution_count": null,
   "id": "d4084f6c",
   "metadata": {},
   "outputs": [],
   "source": []
  },
  {
   "cell_type": "code",
   "execution_count": null,
   "id": "bfc6ad15",
   "metadata": {},
   "outputs": [],
   "source": []
  },
  {
   "cell_type": "code",
   "execution_count": null,
   "id": "6de346fc",
   "metadata": {},
   "outputs": [],
   "source": []
  },
  {
   "cell_type": "code",
   "execution_count": null,
   "id": "c72cbe93",
   "metadata": {},
   "outputs": [],
   "source": []
  },
  {
   "cell_type": "markdown",
   "id": "988fe0d0",
   "metadata": {},
   "source": [
    "# 2.0"
   ]
  },
  {
   "cell_type": "code",
   "execution_count": null,
   "id": "933dec6a",
   "metadata": {},
   "outputs": [],
   "source": []
  },
  {
   "cell_type": "markdown",
   "id": "d6e5f747",
   "metadata": {},
   "source": [
    "# 3.0"
   ]
  },
  {
   "cell_type": "code",
   "execution_count": null,
   "id": "79e37098",
   "metadata": {},
   "outputs": [],
   "source": []
  },
  {
   "cell_type": "markdown",
   "id": "2d394ea5",
   "metadata": {},
   "source": [
    "# 4.0"
   ]
  },
  {
   "cell_type": "code",
   "execution_count": null,
   "id": "62dd1797",
   "metadata": {},
   "outputs": [],
   "source": []
  },
  {
   "cell_type": "markdown",
   "id": "cd93854a",
   "metadata": {},
   "source": [
    "# 5.0"
   ]
  },
  {
   "cell_type": "code",
   "execution_count": null,
   "id": "8ee7ec29",
   "metadata": {},
   "outputs": [],
   "source": []
  },
  {
   "cell_type": "markdown",
   "id": "bbb70b6c",
   "metadata": {},
   "source": [
    "# 6.0"
   ]
  },
  {
   "cell_type": "code",
   "execution_count": null,
   "id": "39c70b15",
   "metadata": {},
   "outputs": [],
   "source": []
  },
  {
   "cell_type": "markdown",
   "id": "6caa0bb4",
   "metadata": {},
   "source": [
    "# 7.0"
   ]
  },
  {
   "cell_type": "code",
   "execution_count": null,
   "id": "d04df30c",
   "metadata": {},
   "outputs": [],
   "source": []
  },
  {
   "cell_type": "markdown",
   "id": "24e65bed",
   "metadata": {},
   "source": [
    "# 8.0"
   ]
  },
  {
   "cell_type": "code",
   "execution_count": null,
   "id": "34309027",
   "metadata": {},
   "outputs": [],
   "source": []
  }
 ],
 "metadata": {
  "kernelspec": {
   "display_name": "ds_prod",
   "language": "python",
   "name": "python3"
  },
  "language_info": {
   "codemirror_mode": {
    "name": "ipython",
    "version": 3
   },
   "file_extension": ".py",
   "mimetype": "text/x-python",
   "name": "python",
   "nbconvert_exporter": "python",
   "pygments_lexer": "ipython3",
   "version": "3.12.11"
  }
 },
 "nbformat": 4,
 "nbformat_minor": 5
}
